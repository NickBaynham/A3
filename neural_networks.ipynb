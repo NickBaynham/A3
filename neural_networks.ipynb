{
  "nbformat": 4,
  "nbformat_minor": 0,
  "metadata": {
    "colab": {
      "name": "neural_networks.ipynb",
      "provenance": [],
      "collapsed_sections": [],
      "authorship_tag": "ABX9TyMG4Z59/N1MN4ZiLwVgbFwJ",
      "include_colab_link": true
    },
    "kernelspec": {
      "name": "python3",
      "display_name": "Python 3"
    },
    "language_info": {
      "name": "python"
    }
  },
  "cells": [
    {
      "cell_type": "markdown",
      "metadata": {
        "id": "view-in-github",
        "colab_type": "text"
      },
      "source": [
        "<a href=\"https://colab.research.google.com/github/NickBaynham/A3/blob/master/neural_networks.ipynb\" target=\"_parent\"><img src=\"https://colab.research.google.com/assets/colab-badge.svg\" alt=\"Open In Colab\"/></a>"
      ]
    },
    {
      "cell_type": "markdown",
      "source": [
        "# Regression\n",
        "## Regression ANN (1 feature)\n",
        "## Regression ANN (2 features)"
      ],
      "metadata": {
        "id": "NK_8iRCiZwbM"
      }
    },
    {
      "cell_type": "markdown",
      "source": [
        "### Dataset: Used Cars"
      ],
      "metadata": {
        "id": "TLGg7Q9OaJjP"
      }
    },
    {
      "cell_type": "code",
      "source": [
        "import pandas as pd\n",
        "import requests\n",
        "import io\n",
        "import warnings\n",
        "warnings.filterwarnings(\"ignore\")\n",
        "\n",
        "# Used Car Dataset\n",
        "#url = 'https://www.kaggle.com/adityadesai13/used-car-dataset-ford-and-mercedes?select=audi.csv'\n",
        "#used_cars = pd.read_csv(url)\n",
        "#used_cars.head()\n",
        "\n",
        "url = 'https://raw.githubusercontent.com/stedy/Machine-Learning-with-R-datasets/master/usedcars.csv'\n",
        "used_cars_source = requests.get(url).content\n",
        "used_cars = pd.read_csv(io.StringIO(used_cars_source.decode('utf-8')), usecols = ['mileage', 'year', 'price'])\n",
        "used_cars.head()"
      ],
      "metadata": {
        "colab": {
          "base_uri": "https://localhost:8080/",
          "height": 206
        },
        "id": "n9Ew489eZ539",
        "outputId": "b1b6d7a8-2396-4193-8e5b-f0aba246b0d4"
      },
      "execution_count": 17,
      "outputs": [
        {
          "output_type": "execute_result",
          "data": {
            "text/html": [
              "<div>\n",
              "<style scoped>\n",
              "    .dataframe tbody tr th:only-of-type {\n",
              "        vertical-align: middle;\n",
              "    }\n",
              "\n",
              "    .dataframe tbody tr th {\n",
              "        vertical-align: top;\n",
              "    }\n",
              "\n",
              "    .dataframe thead th {\n",
              "        text-align: right;\n",
              "    }\n",
              "</style>\n",
              "<table border=\"1\" class=\"dataframe\">\n",
              "  <thead>\n",
              "    <tr style=\"text-align: right;\">\n",
              "      <th></th>\n",
              "      <th>year</th>\n",
              "      <th>price</th>\n",
              "      <th>mileage</th>\n",
              "    </tr>\n",
              "  </thead>\n",
              "  <tbody>\n",
              "    <tr>\n",
              "      <th>0</th>\n",
              "      <td>2011</td>\n",
              "      <td>21992</td>\n",
              "      <td>7413</td>\n",
              "    </tr>\n",
              "    <tr>\n",
              "      <th>1</th>\n",
              "      <td>2011</td>\n",
              "      <td>20995</td>\n",
              "      <td>10926</td>\n",
              "    </tr>\n",
              "    <tr>\n",
              "      <th>2</th>\n",
              "      <td>2011</td>\n",
              "      <td>19995</td>\n",
              "      <td>7351</td>\n",
              "    </tr>\n",
              "    <tr>\n",
              "      <th>3</th>\n",
              "      <td>2011</td>\n",
              "      <td>17809</td>\n",
              "      <td>11613</td>\n",
              "    </tr>\n",
              "    <tr>\n",
              "      <th>4</th>\n",
              "      <td>2012</td>\n",
              "      <td>17500</td>\n",
              "      <td>8367</td>\n",
              "    </tr>\n",
              "  </tbody>\n",
              "</table>\n",
              "</div>"
            ],
            "text/plain": [
              "   year  price  mileage\n",
              "0  2011  21992     7413\n",
              "1  2011  20995    10926\n",
              "2  2011  19995     7351\n",
              "3  2011  17809    11613\n",
              "4  2012  17500     8367"
            ]
          },
          "metadata": {},
          "execution_count": 17
        }
      ]
    },
    {
      "cell_type": "code",
      "source": [
        "data = used_cars.copy()\n",
        "data.shape"
      ],
      "metadata": {
        "colab": {
          "base_uri": "https://localhost:8080/"
        },
        "id": "ho1o3KPlhFh5",
        "outputId": "981cdbd6-bb2d-4274-acce-3acd1b42a4ba"
      },
      "execution_count": 18,
      "outputs": [
        {
          "output_type": "execute_result",
          "data": {
            "text/plain": [
              "(150, 3)"
            ]
          },
          "metadata": {},
          "execution_count": 18
        }
      ]
    },
    {
      "cell_type": "code",
      "source": [
        "# Single Feature Artificial Neural Network\n",
        "mileage = data[['mileage']]\n",
        "mileage.head()"
      ],
      "metadata": {
        "colab": {
          "base_uri": "https://localhost:8080/",
          "height": 206
        },
        "id": "uZdaRi_Vhbnv",
        "outputId": "63d5f961-07df-4bfd-d204-0410d7001f8a"
      },
      "execution_count": 19,
      "outputs": [
        {
          "output_type": "execute_result",
          "data": {
            "text/html": [
              "<div>\n",
              "<style scoped>\n",
              "    .dataframe tbody tr th:only-of-type {\n",
              "        vertical-align: middle;\n",
              "    }\n",
              "\n",
              "    .dataframe tbody tr th {\n",
              "        vertical-align: top;\n",
              "    }\n",
              "\n",
              "    .dataframe thead th {\n",
              "        text-align: right;\n",
              "    }\n",
              "</style>\n",
              "<table border=\"1\" class=\"dataframe\">\n",
              "  <thead>\n",
              "    <tr style=\"text-align: right;\">\n",
              "      <th></th>\n",
              "      <th>mileage</th>\n",
              "    </tr>\n",
              "  </thead>\n",
              "  <tbody>\n",
              "    <tr>\n",
              "      <th>0</th>\n",
              "      <td>7413</td>\n",
              "    </tr>\n",
              "    <tr>\n",
              "      <th>1</th>\n",
              "      <td>10926</td>\n",
              "    </tr>\n",
              "    <tr>\n",
              "      <th>2</th>\n",
              "      <td>7351</td>\n",
              "    </tr>\n",
              "    <tr>\n",
              "      <th>3</th>\n",
              "      <td>11613</td>\n",
              "    </tr>\n",
              "    <tr>\n",
              "      <th>4</th>\n",
              "      <td>8367</td>\n",
              "    </tr>\n",
              "  </tbody>\n",
              "</table>\n",
              "</div>"
            ],
            "text/plain": [
              "   mileage\n",
              "0     7413\n",
              "1    10926\n",
              "2     7351\n",
              "3    11613\n",
              "4     8367"
            ]
          },
          "metadata": {},
          "execution_count": 19
        }
      ]
    },
    {
      "cell_type": "code",
      "source": [
        "# Adding the Weight to the Model\n",
        "mileage['weight'] = -0.09329097\n",
        "mileage.head()"
      ],
      "metadata": {
        "colab": {
          "base_uri": "https://localhost:8080/",
          "height": 206
        },
        "id": "CSd7H277hpf9",
        "outputId": "35bc8e51-bed4-4aaa-931a-dce917eb3756"
      },
      "execution_count": 30,
      "outputs": [
        {
          "output_type": "execute_result",
          "data": {
            "text/html": [
              "<div>\n",
              "<style scoped>\n",
              "    .dataframe tbody tr th:only-of-type {\n",
              "        vertical-align: middle;\n",
              "    }\n",
              "\n",
              "    .dataframe tbody tr th {\n",
              "        vertical-align: top;\n",
              "    }\n",
              "\n",
              "    .dataframe thead th {\n",
              "        text-align: right;\n",
              "    }\n",
              "</style>\n",
              "<table border=\"1\" class=\"dataframe\">\n",
              "  <thead>\n",
              "    <tr style=\"text-align: right;\">\n",
              "      <th></th>\n",
              "      <th>mileage</th>\n",
              "      <th>weight</th>\n",
              "      <th>bias</th>\n",
              "      <th>prediction</th>\n",
              "    </tr>\n",
              "  </thead>\n",
              "  <tbody>\n",
              "    <tr>\n",
              "      <th>0</th>\n",
              "      <td>7413</td>\n",
              "      <td>-0.093291</td>\n",
              "      <td>17091</td>\n",
              "      <td>10175.340394</td>\n",
              "    </tr>\n",
              "    <tr>\n",
              "      <th>1</th>\n",
              "      <td>10926</td>\n",
              "      <td>-0.093291</td>\n",
              "      <td>17091</td>\n",
              "      <td>6898.028618</td>\n",
              "    </tr>\n",
              "    <tr>\n",
              "      <th>2</th>\n",
              "      <td>7351</td>\n",
              "      <td>-0.093291</td>\n",
              "      <td>17091</td>\n",
              "      <td>10233.180795</td>\n",
              "    </tr>\n",
              "    <tr>\n",
              "      <th>3</th>\n",
              "      <td>11613</td>\n",
              "      <td>-0.093291</td>\n",
              "      <td>17091</td>\n",
              "      <td>6257.119654</td>\n",
              "    </tr>\n",
              "    <tr>\n",
              "      <th>4</th>\n",
              "      <td>8367</td>\n",
              "      <td>-0.093291</td>\n",
              "      <td>17091</td>\n",
              "      <td>9285.344540</td>\n",
              "    </tr>\n",
              "  </tbody>\n",
              "</table>\n",
              "</div>"
            ],
            "text/plain": [
              "   mileage    weight   bias    prediction\n",
              "0     7413 -0.093291  17091  10175.340394\n",
              "1    10926 -0.093291  17091   6898.028618\n",
              "2     7351 -0.093291  17091  10233.180795\n",
              "3    11613 -0.093291  17091   6257.119654\n",
              "4     8367 -0.093291  17091   9285.344540"
            ]
          },
          "metadata": {},
          "execution_count": 30
        }
      ]
    },
    {
      "cell_type": "code",
      "source": [
        "# Adding the Bias to the Model\n",
        "mileage['bias'] = 17091\n",
        "mileage.head()"
      ],
      "metadata": {
        "colab": {
          "base_uri": "https://localhost:8080/",
          "height": 206
        },
        "id": "wmPWydRgiBIw",
        "outputId": "8857eef2-c995-4c9f-c576-23e2e2cf0069"
      },
      "execution_count": 31,
      "outputs": [
        {
          "output_type": "execute_result",
          "data": {
            "text/html": [
              "<div>\n",
              "<style scoped>\n",
              "    .dataframe tbody tr th:only-of-type {\n",
              "        vertical-align: middle;\n",
              "    }\n",
              "\n",
              "    .dataframe tbody tr th {\n",
              "        vertical-align: top;\n",
              "    }\n",
              "\n",
              "    .dataframe thead th {\n",
              "        text-align: right;\n",
              "    }\n",
              "</style>\n",
              "<table border=\"1\" class=\"dataframe\">\n",
              "  <thead>\n",
              "    <tr style=\"text-align: right;\">\n",
              "      <th></th>\n",
              "      <th>mileage</th>\n",
              "      <th>weight</th>\n",
              "      <th>bias</th>\n",
              "      <th>prediction</th>\n",
              "    </tr>\n",
              "  </thead>\n",
              "  <tbody>\n",
              "    <tr>\n",
              "      <th>0</th>\n",
              "      <td>7413</td>\n",
              "      <td>-0.093291</td>\n",
              "      <td>17091</td>\n",
              "      <td>10175.340394</td>\n",
              "    </tr>\n",
              "    <tr>\n",
              "      <th>1</th>\n",
              "      <td>10926</td>\n",
              "      <td>-0.093291</td>\n",
              "      <td>17091</td>\n",
              "      <td>6898.028618</td>\n",
              "    </tr>\n",
              "    <tr>\n",
              "      <th>2</th>\n",
              "      <td>7351</td>\n",
              "      <td>-0.093291</td>\n",
              "      <td>17091</td>\n",
              "      <td>10233.180795</td>\n",
              "    </tr>\n",
              "    <tr>\n",
              "      <th>3</th>\n",
              "      <td>11613</td>\n",
              "      <td>-0.093291</td>\n",
              "      <td>17091</td>\n",
              "      <td>6257.119654</td>\n",
              "    </tr>\n",
              "    <tr>\n",
              "      <th>4</th>\n",
              "      <td>8367</td>\n",
              "      <td>-0.093291</td>\n",
              "      <td>17091</td>\n",
              "      <td>9285.344540</td>\n",
              "    </tr>\n",
              "  </tbody>\n",
              "</table>\n",
              "</div>"
            ],
            "text/plain": [
              "   mileage    weight   bias    prediction\n",
              "0     7413 -0.093291  17091  10175.340394\n",
              "1    10926 -0.093291  17091   6898.028618\n",
              "2     7351 -0.093291  17091  10233.180795\n",
              "3    11613 -0.093291  17091   6257.119654\n",
              "4     8367 -0.093291  17091   9285.344540"
            ]
          },
          "metadata": {},
          "execution_count": 31
        }
      ]
    },
    {
      "cell_type": "code",
      "source": [
        "# Add the calcuated prediction\n",
        "mileage['prediction'] = mileage['mileage'] * mileage['weight'] + mileage['bias']\n",
        "mileage.head()"
      ],
      "metadata": {
        "colab": {
          "base_uri": "https://localhost:8080/",
          "height": 206
        },
        "id": "aILS9t04iPRu",
        "outputId": "b45850b6-39a5-4f77-87c7-01712f2b8fe6"
      },
      "execution_count": 32,
      "outputs": [
        {
          "output_type": "execute_result",
          "data": {
            "text/html": [
              "<div>\n",
              "<style scoped>\n",
              "    .dataframe tbody tr th:only-of-type {\n",
              "        vertical-align: middle;\n",
              "    }\n",
              "\n",
              "    .dataframe tbody tr th {\n",
              "        vertical-align: top;\n",
              "    }\n",
              "\n",
              "    .dataframe thead th {\n",
              "        text-align: right;\n",
              "    }\n",
              "</style>\n",
              "<table border=\"1\" class=\"dataframe\">\n",
              "  <thead>\n",
              "    <tr style=\"text-align: right;\">\n",
              "      <th></th>\n",
              "      <th>mileage</th>\n",
              "      <th>weight</th>\n",
              "      <th>bias</th>\n",
              "      <th>prediction</th>\n",
              "    </tr>\n",
              "  </thead>\n",
              "  <tbody>\n",
              "    <tr>\n",
              "      <th>0</th>\n",
              "      <td>7413</td>\n",
              "      <td>-0.093291</td>\n",
              "      <td>17091</td>\n",
              "      <td>16399.434039</td>\n",
              "    </tr>\n",
              "    <tr>\n",
              "      <th>1</th>\n",
              "      <td>10926</td>\n",
              "      <td>-0.093291</td>\n",
              "      <td>17091</td>\n",
              "      <td>16071.702862</td>\n",
              "    </tr>\n",
              "    <tr>\n",
              "      <th>2</th>\n",
              "      <td>7351</td>\n",
              "      <td>-0.093291</td>\n",
              "      <td>17091</td>\n",
              "      <td>16405.218080</td>\n",
              "    </tr>\n",
              "    <tr>\n",
              "      <th>3</th>\n",
              "      <td>11613</td>\n",
              "      <td>-0.093291</td>\n",
              "      <td>17091</td>\n",
              "      <td>16007.611965</td>\n",
              "    </tr>\n",
              "    <tr>\n",
              "      <th>4</th>\n",
              "      <td>8367</td>\n",
              "      <td>-0.093291</td>\n",
              "      <td>17091</td>\n",
              "      <td>16310.434454</td>\n",
              "    </tr>\n",
              "  </tbody>\n",
              "</table>\n",
              "</div>"
            ],
            "text/plain": [
              "   mileage    weight   bias    prediction\n",
              "0     7413 -0.093291  17091  16399.434039\n",
              "1    10926 -0.093291  17091  16071.702862\n",
              "2     7351 -0.093291  17091  16405.218080\n",
              "3    11613 -0.093291  17091  16007.611965\n",
              "4     8367 -0.093291  17091  16310.434454"
            ]
          },
          "metadata": {},
          "execution_count": 32
        }
      ]
    },
    {
      "cell_type": "code",
      "source": [
        "# Measuring the Accuracy (Root Mean Squared Error - RMSE)\n",
        "from sklearn.metrics import mean_squared_error\n",
        "mean_squared_error(data['price'], mileage['prediction'], squared = False)"
      ],
      "metadata": {
        "colab": {
          "base_uri": "https://localhost:8080/"
        },
        "id": "kc2zO1AYij8A",
        "outputId": "b9599bea-2c76-4630-faaa-53a67fd48ece"
      },
      "execution_count": 33,
      "outputs": [
        {
          "output_type": "execute_result",
          "data": {
            "text/plain": [
              "1841.4412082447695"
            ]
          },
          "metadata": {},
          "execution_count": 33
        }
      ]
    },
    {
      "cell_type": "code",
      "source": [
        "# Two Feature Predictive Model\n",
        "mileage_year = data[['mileage', 'year']]\n",
        "mileage_year.head()"
      ],
      "metadata": {
        "colab": {
          "base_uri": "https://localhost:8080/",
          "height": 206
        },
        "id": "0PldhF6zij-O",
        "outputId": "d82e8665-525a-408e-8471-acf8af7bd0a4"
      },
      "execution_count": 25,
      "outputs": [
        {
          "output_type": "execute_result",
          "data": {
            "text/html": [
              "<div>\n",
              "<style scoped>\n",
              "    .dataframe tbody tr th:only-of-type {\n",
              "        vertical-align: middle;\n",
              "    }\n",
              "\n",
              "    .dataframe tbody tr th {\n",
              "        vertical-align: top;\n",
              "    }\n",
              "\n",
              "    .dataframe thead th {\n",
              "        text-align: right;\n",
              "    }\n",
              "</style>\n",
              "<table border=\"1\" class=\"dataframe\">\n",
              "  <thead>\n",
              "    <tr style=\"text-align: right;\">\n",
              "      <th></th>\n",
              "      <th>mileage</th>\n",
              "      <th>year</th>\n",
              "    </tr>\n",
              "  </thead>\n",
              "  <tbody>\n",
              "    <tr>\n",
              "      <th>0</th>\n",
              "      <td>7413</td>\n",
              "      <td>2011</td>\n",
              "    </tr>\n",
              "    <tr>\n",
              "      <th>1</th>\n",
              "      <td>10926</td>\n",
              "      <td>2011</td>\n",
              "    </tr>\n",
              "    <tr>\n",
              "      <th>2</th>\n",
              "      <td>7351</td>\n",
              "      <td>2011</td>\n",
              "    </tr>\n",
              "    <tr>\n",
              "      <th>3</th>\n",
              "      <td>11613</td>\n",
              "      <td>2011</td>\n",
              "    </tr>\n",
              "    <tr>\n",
              "      <th>4</th>\n",
              "      <td>8367</td>\n",
              "      <td>2012</td>\n",
              "    </tr>\n",
              "  </tbody>\n",
              "</table>\n",
              "</div>"
            ],
            "text/plain": [
              "   mileage  year\n",
              "0     7413  2011\n",
              "1    10926  2011\n",
              "2     7351  2011\n",
              "3    11613  2011\n",
              "4     8367  2012"
            ]
          },
          "metadata": {},
          "execution_count": 25
        }
      ]
    },
    {
      "cell_type": "code",
      "source": [
        "# Setting the Weights\n",
        "mileage_year['weight_mileage'] = -0.0448941924\n",
        "mileage_year['weight_year'] = 780.345131\n",
        "mileage_year.head()"
      ],
      "metadata": {
        "colab": {
          "base_uri": "https://localhost:8080/",
          "height": 206
        },
        "id": "Gn4PsJ2TjgRy",
        "outputId": "bedd534c-5872-44e9-8316-c9ffa41eaae5"
      },
      "execution_count": 26,
      "outputs": [
        {
          "output_type": "execute_result",
          "data": {
            "text/html": [
              "<div>\n",
              "<style scoped>\n",
              "    .dataframe tbody tr th:only-of-type {\n",
              "        vertical-align: middle;\n",
              "    }\n",
              "\n",
              "    .dataframe tbody tr th {\n",
              "        vertical-align: top;\n",
              "    }\n",
              "\n",
              "    .dataframe thead th {\n",
              "        text-align: right;\n",
              "    }\n",
              "</style>\n",
              "<table border=\"1\" class=\"dataframe\">\n",
              "  <thead>\n",
              "    <tr style=\"text-align: right;\">\n",
              "      <th></th>\n",
              "      <th>mileage</th>\n",
              "      <th>year</th>\n",
              "      <th>weight_mileage</th>\n",
              "      <th>weight_year</th>\n",
              "    </tr>\n",
              "  </thead>\n",
              "  <tbody>\n",
              "    <tr>\n",
              "      <th>0</th>\n",
              "      <td>7413</td>\n",
              "      <td>2011</td>\n",
              "      <td>-0.044894</td>\n",
              "      <td>780.345131</td>\n",
              "    </tr>\n",
              "    <tr>\n",
              "      <th>1</th>\n",
              "      <td>10926</td>\n",
              "      <td>2011</td>\n",
              "      <td>-0.044894</td>\n",
              "      <td>780.345131</td>\n",
              "    </tr>\n",
              "    <tr>\n",
              "      <th>2</th>\n",
              "      <td>7351</td>\n",
              "      <td>2011</td>\n",
              "      <td>-0.044894</td>\n",
              "      <td>780.345131</td>\n",
              "    </tr>\n",
              "    <tr>\n",
              "      <th>3</th>\n",
              "      <td>11613</td>\n",
              "      <td>2011</td>\n",
              "      <td>-0.044894</td>\n",
              "      <td>780.345131</td>\n",
              "    </tr>\n",
              "    <tr>\n",
              "      <th>4</th>\n",
              "      <td>8367</td>\n",
              "      <td>2012</td>\n",
              "      <td>-0.044894</td>\n",
              "      <td>780.345131</td>\n",
              "    </tr>\n",
              "  </tbody>\n",
              "</table>\n",
              "</div>"
            ],
            "text/plain": [
              "   mileage  year  weight_mileage  weight_year\n",
              "0     7413  2011       -0.044894   780.345131\n",
              "1    10926  2011       -0.044894   780.345131\n",
              "2     7351  2011       -0.044894   780.345131\n",
              "3    11613  2011       -0.044894   780.345131\n",
              "4     8367  2012       -0.044894   780.345131"
            ]
          },
          "metadata": {},
          "execution_count": 26
        }
      ]
    },
    {
      "cell_type": "code",
      "source": [
        "# Adding the Bias\n",
        "mileage_year['bias'] = -1552551\n",
        "mileage_year.head()"
      ],
      "metadata": {
        "colab": {
          "base_uri": "https://localhost:8080/",
          "height": 206
        },
        "id": "gVyy8SU5j7aV",
        "outputId": "35870fed-3bf3-4f4c-ab30-4b0715c479fc"
      },
      "execution_count": 27,
      "outputs": [
        {
          "output_type": "execute_result",
          "data": {
            "text/html": [
              "<div>\n",
              "<style scoped>\n",
              "    .dataframe tbody tr th:only-of-type {\n",
              "        vertical-align: middle;\n",
              "    }\n",
              "\n",
              "    .dataframe tbody tr th {\n",
              "        vertical-align: top;\n",
              "    }\n",
              "\n",
              "    .dataframe thead th {\n",
              "        text-align: right;\n",
              "    }\n",
              "</style>\n",
              "<table border=\"1\" class=\"dataframe\">\n",
              "  <thead>\n",
              "    <tr style=\"text-align: right;\">\n",
              "      <th></th>\n",
              "      <th>mileage</th>\n",
              "      <th>year</th>\n",
              "      <th>weight_mileage</th>\n",
              "      <th>weight_year</th>\n",
              "      <th>bias</th>\n",
              "    </tr>\n",
              "  </thead>\n",
              "  <tbody>\n",
              "    <tr>\n",
              "      <th>0</th>\n",
              "      <td>7413</td>\n",
              "      <td>2011</td>\n",
              "      <td>-0.044894</td>\n",
              "      <td>780.345131</td>\n",
              "      <td>-1552551</td>\n",
              "    </tr>\n",
              "    <tr>\n",
              "      <th>1</th>\n",
              "      <td>10926</td>\n",
              "      <td>2011</td>\n",
              "      <td>-0.044894</td>\n",
              "      <td>780.345131</td>\n",
              "      <td>-1552551</td>\n",
              "    </tr>\n",
              "    <tr>\n",
              "      <th>2</th>\n",
              "      <td>7351</td>\n",
              "      <td>2011</td>\n",
              "      <td>-0.044894</td>\n",
              "      <td>780.345131</td>\n",
              "      <td>-1552551</td>\n",
              "    </tr>\n",
              "    <tr>\n",
              "      <th>3</th>\n",
              "      <td>11613</td>\n",
              "      <td>2011</td>\n",
              "      <td>-0.044894</td>\n",
              "      <td>780.345131</td>\n",
              "      <td>-1552551</td>\n",
              "    </tr>\n",
              "    <tr>\n",
              "      <th>4</th>\n",
              "      <td>8367</td>\n",
              "      <td>2012</td>\n",
              "      <td>-0.044894</td>\n",
              "      <td>780.345131</td>\n",
              "      <td>-1552551</td>\n",
              "    </tr>\n",
              "  </tbody>\n",
              "</table>\n",
              "</div>"
            ],
            "text/plain": [
              "   mileage  year  weight_mileage  weight_year     bias\n",
              "0     7413  2011       -0.044894   780.345131 -1552551\n",
              "1    10926  2011       -0.044894   780.345131 -1552551\n",
              "2     7351  2011       -0.044894   780.345131 -1552551\n",
              "3    11613  2011       -0.044894   780.345131 -1552551\n",
              "4     8367  2012       -0.044894   780.345131 -1552551"
            ]
          },
          "metadata": {},
          "execution_count": 27
        }
      ]
    },
    {
      "cell_type": "code",
      "source": [
        "# Add the prediction\n",
        "mileage_year['prediction'] = mileage_year['mileage'] * mileage_year['weight_mileage'] + mileage_year['year'] * mileage_year['weight_year'] + mileage_year['bias']\n",
        "mileage_year.head()"
      ],
      "metadata": {
        "colab": {
          "base_uri": "https://localhost:8080/",
          "height": 206
        },
        "id": "9Bl3Puu3kHRE",
        "outputId": "deba6d05-8bc7-47e7-db9b-c05ab5efbbf4"
      },
      "execution_count": 28,
      "outputs": [
        {
          "output_type": "execute_result",
          "data": {
            "text/html": [
              "<div>\n",
              "<style scoped>\n",
              "    .dataframe tbody tr th:only-of-type {\n",
              "        vertical-align: middle;\n",
              "    }\n",
              "\n",
              "    .dataframe tbody tr th {\n",
              "        vertical-align: top;\n",
              "    }\n",
              "\n",
              "    .dataframe thead th {\n",
              "        text-align: right;\n",
              "    }\n",
              "</style>\n",
              "<table border=\"1\" class=\"dataframe\">\n",
              "  <thead>\n",
              "    <tr style=\"text-align: right;\">\n",
              "      <th></th>\n",
              "      <th>mileage</th>\n",
              "      <th>year</th>\n",
              "      <th>weight_mileage</th>\n",
              "      <th>weight_year</th>\n",
              "      <th>bias</th>\n",
              "      <th>prediction</th>\n",
              "    </tr>\n",
              "  </thead>\n",
              "  <tbody>\n",
              "    <tr>\n",
              "      <th>0</th>\n",
              "      <td>7413</td>\n",
              "      <td>2011</td>\n",
              "      <td>-0.044894</td>\n",
              "      <td>780.345131</td>\n",
              "      <td>-1552551</td>\n",
              "      <td>16390.257793</td>\n",
              "    </tr>\n",
              "    <tr>\n",
              "      <th>1</th>\n",
              "      <td>10926</td>\n",
              "      <td>2011</td>\n",
              "      <td>-0.044894</td>\n",
              "      <td>780.345131</td>\n",
              "      <td>-1552551</td>\n",
              "      <td>16232.544495</td>\n",
              "    </tr>\n",
              "    <tr>\n",
              "      <th>2</th>\n",
              "      <td>7351</td>\n",
              "      <td>2011</td>\n",
              "      <td>-0.044894</td>\n",
              "      <td>780.345131</td>\n",
              "      <td>-1552551</td>\n",
              "      <td>16393.041233</td>\n",
              "    </tr>\n",
              "    <tr>\n",
              "      <th>3</th>\n",
              "      <td>11613</td>\n",
              "      <td>2011</td>\n",
              "      <td>-0.044894</td>\n",
              "      <td>780.345131</td>\n",
              "      <td>-1552551</td>\n",
              "      <td>16201.702185</td>\n",
              "    </tr>\n",
              "    <tr>\n",
              "      <th>4</th>\n",
              "      <td>8367</td>\n",
              "      <td>2012</td>\n",
              "      <td>-0.044894</td>\n",
              "      <td>780.345131</td>\n",
              "      <td>-1552551</td>\n",
              "      <td>17127.773864</td>\n",
              "    </tr>\n",
              "  </tbody>\n",
              "</table>\n",
              "</div>"
            ],
            "text/plain": [
              "   mileage  year  weight_mileage  weight_year     bias    prediction\n",
              "0     7413  2011       -0.044894   780.345131 -1552551  16390.257793\n",
              "1    10926  2011       -0.044894   780.345131 -1552551  16232.544495\n",
              "2     7351  2011       -0.044894   780.345131 -1552551  16393.041233\n",
              "3    11613  2011       -0.044894   780.345131 -1552551  16201.702185\n",
              "4     8367  2012       -0.044894   780.345131 -1552551  17127.773864"
            ]
          },
          "metadata": {},
          "execution_count": 28
        }
      ]
    },
    {
      "cell_type": "code",
      "source": [
        "# Accuracy (Root Mean Square Error - RMSE)\n",
        "mean_squared_error(data['price'], mileage_year['prediction'], squared = False)"
      ],
      "metadata": {
        "colab": {
          "base_uri": "https://localhost:8080/"
        },
        "id": "md6b4hzOk6QT",
        "outputId": "63e90c48-8052-4613-8b01-ec5beb81d2db"
      },
      "execution_count": 29,
      "outputs": [
        {
          "output_type": "execute_result",
          "data": {
            "text/plain": [
              "1467.8516472626532"
            ]
          },
          "metadata": {},
          "execution_count": 29
        }
      ]
    }
  ]
}